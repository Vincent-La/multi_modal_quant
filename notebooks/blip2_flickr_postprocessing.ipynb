{
 "cells": [
  {
   "cell_type": "code",
   "execution_count": 4,
   "metadata": {},
   "outputs": [
    {
     "name": "stdout",
     "output_type": "stream",
     "text": [
      "The autoreload extension is already loaded. To reload it, use:\n",
      "  %reload_ext autoreload\n"
     ]
    }
   ],
   "source": [
    "%load_ext autoreload\n",
    "%autoreload 2\n",
    "%matplotlib inline"
   ]
  },
  {
   "cell_type": "code",
   "execution_count": 70,
   "metadata": {},
   "outputs": [],
   "source": [
    "import pandas as pd\n",
    "import os\n",
    "import ast\n",
    "import seaborn as sns\n",
    "import matplotlib.pyplot as plt"
   ]
  },
  {
   "cell_type": "code",
   "execution_count": 75,
   "metadata": {},
   "outputs": [],
   "source": [
    "def load_result(file_path):\n",
    "    with open(file_path, 'r') as f:\n",
    "        # read last line and grab metrics info as a dict\n",
    "        result = ast.literal_eval(f.readlines()[-1].split('[INFO] ')[1])\n",
    "\n",
    "    return result\n",
    "'''\n",
    "    results_path: path to dir containing LAVIS output files\n",
    "'''\n",
    "def load_results(results_path):\n",
    "    \n",
    "    gather = []\n",
    "    for file_name in os.listdir(results_path):\n",
    "        file_path = os.path.join(results_path, file_name)\n",
    "        result = load_result(file_path)\n",
    "        result['file_name'] = file_name\n",
    "        gather.append(result)\n",
    "    \n",
    "    df_results = pd.DataFrame(gather)\n",
    "    \n",
    "    weight_bits = df_results.file_name.str.extract(r'w(\\d*)')\n",
    "    df_results['weight_bits'] = [float(x) if x != '158' else 1.58 for x in weight_bits[0]]\n",
    "    \n",
    "    act_bits = df_results.file_name.str.extract(r'a(\\d*)')\n",
    "    df_results['activation_bits'] = [float(x) if x != '158' else 1.58 for x in act_bits[0]]\n",
    "\n",
    "    return df_results"
   ]
  },
  {
   "cell_type": "code",
   "execution_count": 85,
   "metadata": {},
   "outputs": [
    {
     "data": {
      "text/html": [
       "<div>\n",
       "<style scoped>\n",
       "    .dataframe tbody tr th:only-of-type {\n",
       "        vertical-align: middle;\n",
       "    }\n",
       "\n",
       "    .dataframe tbody tr th {\n",
       "        vertical-align: top;\n",
       "    }\n",
       "\n",
       "    .dataframe thead th {\n",
       "        text-align: right;\n",
       "    }\n",
       "</style>\n",
       "<table border=\"1\" class=\"dataframe\">\n",
       "  <thead>\n",
       "    <tr style=\"text-align: right;\">\n",
       "      <th></th>\n",
       "      <th>txt_r1</th>\n",
       "      <th>txt_r5</th>\n",
       "      <th>txt_r10</th>\n",
       "      <th>txt_r_mean</th>\n",
       "      <th>img_r1</th>\n",
       "      <th>img_r5</th>\n",
       "      <th>img_r10</th>\n",
       "      <th>img_r_mean</th>\n",
       "      <th>r_mean</th>\n",
       "      <th>agg_metrics</th>\n",
       "      <th>file_name</th>\n",
       "      <th>weight_bits</th>\n",
       "      <th>activation_bits</th>\n",
       "    </tr>\n",
       "  </thead>\n",
       "  <tbody>\n",
       "    <tr>\n",
       "      <th>0</th>\n",
       "      <td>97.6</td>\n",
       "      <td>100.0</td>\n",
       "      <td>100.0</td>\n",
       "      <td>99.2</td>\n",
       "      <td>89.74</td>\n",
       "      <td>98.18</td>\n",
       "      <td>98.94</td>\n",
       "      <td>95.62</td>\n",
       "      <td>97.41</td>\n",
       "      <td>99.2</td>\n",
       "      <td>baseline</td>\n",
       "      <td>32.0</td>\n",
       "      <td>32.0</td>\n",
       "    </tr>\n",
       "  </tbody>\n",
       "</table>\n",
       "</div>"
      ],
      "text/plain": [
       "   txt_r1  txt_r5  txt_r10  txt_r_mean  img_r1  img_r5  img_r10  img_r_mean  \\\n",
       "0    97.6   100.0    100.0        99.2   89.74   98.18    98.94       95.62   \n",
       "\n",
       "   r_mean  agg_metrics file_name  weight_bits  activation_bits  \n",
       "0   97.41         99.2  baseline         32.0             32.0  "
      ]
     },
     "execution_count": 85,
     "metadata": {},
     "output_type": "execute_result"
    }
   ],
   "source": [
    "baseline_result = load_result(os.path.join('..', 'results', 'blip2_flickr', 'blip2_flickr_baseline.2714895'))\n",
    "baseline_result['file_name'] = 'baseline'\n",
    "baseline_result['weight_bits'] = 32.0\n",
    "baseline_result['activation_bits'] = 32.0\n",
    "\n",
    "baseline_result = pd.DataFrame([baseline_result])\n",
    "baseline_result"
   ]
  },
  {
   "cell_type": "markdown",
   "metadata": {},
   "source": [
    "## Uniform Quantization\n",
    "\n",
    "+ https://pocketflow.github.io/uq_learner/#algorithm"
   ]
  },
  {
   "cell_type": "code",
   "execution_count": 77,
   "metadata": {},
   "outputs": [
    {
     "data": {
      "text/plain": [
       "'../results/blip2_flickr/uniform_quant/vision_attention_head'"
      ]
     },
     "execution_count": 77,
     "metadata": {},
     "output_type": "execute_result"
    }
   ],
   "source": [
    "results_path = os.path.join('..', 'results', 'blip2_flickr', 'uniform_quant', 'vision_attention_head')\n",
    "results_path"
   ]
  },
  {
   "cell_type": "code",
   "execution_count": 87,
   "metadata": {},
   "outputs": [
    {
     "data": {
      "text/html": [
       "<div>\n",
       "<style scoped>\n",
       "    .dataframe tbody tr th:only-of-type {\n",
       "        vertical-align: middle;\n",
       "    }\n",
       "\n",
       "    .dataframe tbody tr th {\n",
       "        vertical-align: top;\n",
       "    }\n",
       "\n",
       "    .dataframe thead th {\n",
       "        text-align: right;\n",
       "    }\n",
       "</style>\n",
       "<table border=\"1\" class=\"dataframe\">\n",
       "  <thead>\n",
       "    <tr style=\"text-align: right;\">\n",
       "      <th></th>\n",
       "      <th>txt_r1</th>\n",
       "      <th>txt_r5</th>\n",
       "      <th>txt_r10</th>\n",
       "      <th>txt_r_mean</th>\n",
       "      <th>img_r1</th>\n",
       "      <th>img_r5</th>\n",
       "      <th>img_r10</th>\n",
       "      <th>img_r_mean</th>\n",
       "      <th>r_mean</th>\n",
       "      <th>agg_metrics</th>\n",
       "      <th>file_name</th>\n",
       "      <th>weight_bits</th>\n",
       "      <th>activation_bits</th>\n",
       "    </tr>\n",
       "  </thead>\n",
       "  <tbody>\n",
       "    <tr>\n",
       "      <th>0</th>\n",
       "      <td>97.6</td>\n",
       "      <td>100.0</td>\n",
       "      <td>100.0</td>\n",
       "      <td>99.200000</td>\n",
       "      <td>89.74</td>\n",
       "      <td>98.18</td>\n",
       "      <td>98.94</td>\n",
       "      <td>95.620000</td>\n",
       "      <td>97.410000</td>\n",
       "      <td>99.200000</td>\n",
       "      <td>baseline</td>\n",
       "      <td>32.00</td>\n",
       "      <td>32.0</td>\n",
       "    </tr>\n",
       "    <tr>\n",
       "      <th>0</th>\n",
       "      <td>52.7</td>\n",
       "      <td>70.2</td>\n",
       "      <td>76.1</td>\n",
       "      <td>66.333333</td>\n",
       "      <td>47.20</td>\n",
       "      <td>67.50</td>\n",
       "      <td>74.72</td>\n",
       "      <td>63.140000</td>\n",
       "      <td>64.736667</td>\n",
       "      <td>66.333333</td>\n",
       "      <td>vit_w4_a32</td>\n",
       "      <td>4.00</td>\n",
       "      <td>32.0</td>\n",
       "    </tr>\n",
       "    <tr>\n",
       "      <th>1</th>\n",
       "      <td>54.2</td>\n",
       "      <td>71.5</td>\n",
       "      <td>78.2</td>\n",
       "      <td>67.966667</td>\n",
       "      <td>49.04</td>\n",
       "      <td>69.46</td>\n",
       "      <td>76.70</td>\n",
       "      <td>65.066667</td>\n",
       "      <td>66.516667</td>\n",
       "      <td>67.966667</td>\n",
       "      <td>vit_w6_a32</td>\n",
       "      <td>6.00</td>\n",
       "      <td>32.0</td>\n",
       "    </tr>\n",
       "    <tr>\n",
       "      <th>2</th>\n",
       "      <td>18.0</td>\n",
       "      <td>30.4</td>\n",
       "      <td>37.8</td>\n",
       "      <td>28.733333</td>\n",
       "      <td>19.14</td>\n",
       "      <td>34.06</td>\n",
       "      <td>41.46</td>\n",
       "      <td>31.553333</td>\n",
       "      <td>30.143333</td>\n",
       "      <td>28.733333</td>\n",
       "      <td>vit_w2_a32</td>\n",
       "      <td>2.00</td>\n",
       "      <td>32.0</td>\n",
       "    </tr>\n",
       "    <tr>\n",
       "      <th>3</th>\n",
       "      <td>58.0</td>\n",
       "      <td>76.6</td>\n",
       "      <td>83.0</td>\n",
       "      <td>72.533333</td>\n",
       "      <td>56.70</td>\n",
       "      <td>76.12</td>\n",
       "      <td>81.72</td>\n",
       "      <td>71.513333</td>\n",
       "      <td>72.023333</td>\n",
       "      <td>72.533333</td>\n",
       "      <td>vit_w158_a32</td>\n",
       "      <td>1.58</td>\n",
       "      <td>32.0</td>\n",
       "    </tr>\n",
       "    <tr>\n",
       "      <th>4</th>\n",
       "      <td>55.2</td>\n",
       "      <td>72.2</td>\n",
       "      <td>78.1</td>\n",
       "      <td>68.500000</td>\n",
       "      <td>49.52</td>\n",
       "      <td>70.14</td>\n",
       "      <td>77.38</td>\n",
       "      <td>65.680000</td>\n",
       "      <td>67.090000</td>\n",
       "      <td>68.500000</td>\n",
       "      <td>vit_w8_a32</td>\n",
       "      <td>8.00</td>\n",
       "      <td>32.0</td>\n",
       "    </tr>\n",
       "  </tbody>\n",
       "</table>\n",
       "</div>"
      ],
      "text/plain": [
       "   txt_r1  txt_r5  txt_r10  txt_r_mean  img_r1  img_r5  img_r10  img_r_mean  \\\n",
       "0    97.6   100.0    100.0   99.200000   89.74   98.18    98.94   95.620000   \n",
       "0    52.7    70.2     76.1   66.333333   47.20   67.50    74.72   63.140000   \n",
       "1    54.2    71.5     78.2   67.966667   49.04   69.46    76.70   65.066667   \n",
       "2    18.0    30.4     37.8   28.733333   19.14   34.06    41.46   31.553333   \n",
       "3    58.0    76.6     83.0   72.533333   56.70   76.12    81.72   71.513333   \n",
       "4    55.2    72.2     78.1   68.500000   49.52   70.14    77.38   65.680000   \n",
       "\n",
       "      r_mean  agg_metrics     file_name  weight_bits  activation_bits  \n",
       "0  97.410000    99.200000      baseline        32.00             32.0  \n",
       "0  64.736667    66.333333    vit_w4_a32         4.00             32.0  \n",
       "1  66.516667    67.966667    vit_w6_a32         6.00             32.0  \n",
       "2  30.143333    28.733333    vit_w2_a32         2.00             32.0  \n",
       "3  72.023333    72.533333  vit_w158_a32         1.58             32.0  \n",
       "4  67.090000    68.500000    vit_w8_a32         8.00             32.0  "
      ]
     },
     "execution_count": 87,
     "metadata": {},
     "output_type": "execute_result"
    }
   ],
   "source": [
    "df_results = load_results(results_path)\n",
    "\n",
    "df_results = pd.concat([baseline_result, df_results], axis = 0)\n",
    "df_results"
   ]
  },
  {
   "cell_type": "code",
   "execution_count": 93,
   "metadata": {},
   "outputs": [
    {
     "data": {
      "text/plain": [
       "Text(0, 0.5, 'R@1')"
      ]
     },
     "execution_count": 93,
     "metadata": {},
     "output_type": "execute_result"
    },
    {
     "data": {
      "image/png": "[encoded data removed]",
      "text/plain": [
       "<Figure size 640x480 with 1 Axes>"
      ]
     },
     "metadata": {},
     "output_type": "display_data"
    }
   ],
   "source": [
    "sns.set_theme()\n",
    "ax = sns.lineplot(data= df_results,\n",
    "                  x = 'weight_bits',\n",
    "                  y = 'txt_r1',\n",
    "                  marker = 'o')\n",
    "\n",
    "ax.invert_xaxis()\n",
    "plt.title('Image-->Text Retrieval')\n",
    "plt.ylabel('R@1')\n"
   ]
  },
  {
   "cell_type": "code",
   "execution_count": 94,
   "metadata": {},
   "outputs": [
    {
     "data": {
      "text/plain": [
       "Text(0, 0.5, 'R@1')"
      ]
     },
     "execution_count": 94,
     "metadata": {},
     "output_type": "execute_result"
    },
    {
     "data": {
      "image/png": "[encoded data removed]",
      "text/plain": [
       "<Figure size 640x480 with 1 Axes>"
      ]
     },
     "metadata": {},
     "output_type": "display_data"
    }
   ],
   "source": [
    "sns.set_theme()\n",
    "ax = sns.lineplot(data= df_results,\n",
    "                  x = 'weight_bits',\n",
    "                  y = 'img_r1',\n",
    "                  marker = 'o')\n",
    "\n",
    "ax.invert_xaxis()\n",
    "plt.title('Text-->Image Retrieval')\n",
    "plt.ylabel('R@1')\n"
   ]
  }
 ],
 "metadata": {
  "language_info": {
   "name": "python"
  }
 },
 "nbformat": 4,
 "nbformat_minor": 2
}
